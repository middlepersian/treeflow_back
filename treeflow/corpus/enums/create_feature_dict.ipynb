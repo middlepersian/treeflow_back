{
 "cells": [
  {
   "cell_type": "code",
   "execution_count": 5,
   "metadata": {},
   "outputs": [],
   "source": [
    "import numpy as np\n",
    "import pandas as pd\n",
    "path = '~/repositories/c-salt_mpcd/corpora/annotation/guidelines/MPCD_UD_annotation_list.xlsx'\n",
    "\n",
    "upos_feature_feature_value = {}\n",
    "\n",
    "df = pd.read_excel(path, sheet_name='POS-Feats')\n",
    "for _, row in df.iterrows():\n",
    "    upos = row['UPOS']\n",
    "    feature = row['Feat (true case)']\n",
    "    feature_value = row['Allowed values']\n",
    "    if upos not in upos_feature_feature_value:\n",
    "        upos_feature_feature_value[upos] = {}\n",
    "    if feature not in upos_feature_feature_value[upos]:\n",
    "        if isinstance(feature_value, str):\n",
    "            upos_feature_feature_value[upos][feature] = tuple(feature_value.split(','))\n",
    "        else:\n",
    "            upos_feature_feature_value[upos][feature] = np.nan\n"
   ]
  },
  {
   "cell_type": "code",
   "execution_count": 6,
   "metadata": {},
   "outputs": [
    {
     "data": {
      "text/plain": [
       "{'ADJ': {'Number': ('Plur',),\n",
       "  'Degree': ('Cmp', 'Sup'),\n",
       "  'NumType': ('Ord', 'Mult'),\n",
       "  'Subcat': ('Tran', 'Intr'),\n",
       "  'Tense': ('Pres', 'Past'),\n",
       "  'VerbForm': ('Inf', 'Part', 'Vnoun')},\n",
       " 'ADP': {'AdpType': ('Prep', 'Post', 'Circ')},\n",
       " 'ADV': {'AdvType': ('Man', 'Loc', 'Tim', 'Deg'),\n",
       "  'NumType': ('Mult', 'Ord'),\n",
       "  'Deixis': ('Prox', 'Remt'),\n",
       "  'Degree': ('Cmp', 'Sup')},\n",
       " 'DET': {'Definite': ('Ind', 'Spec'),\n",
       "  'PronType': ('Dem', 'Ind', 'Tot', 'Int', 'Prs', 'Emp'),\n",
       "  'Deixis': ('Prox', 'Remt'),\n",
       "  'Person': ('1', '2', '3'),\n",
       "  'Number': ('Sing', 'Plur'),\n",
       "  'Poss': ('Yes',),\n",
       "  'Refl': ('Yes',)},\n",
       " 'PUNCT': {'PunctType': ('Semi', 'Dash', 'Excl', 'Quot'),\n",
       "  'PunctSide': ('Ini', 'Fin')},\n",
       " 'SCONJ': {'PronType': ('Rel',)},\n",
       " 'NUM': {'NumType': ('Card', 'Fract', 'Sets')},\n",
       " 'PART': {'PartType': ('Mod', 'Neg', 'Emp', 'Vbp')},\n",
       " 'PRON': {'PronType': ('Prs', 'Dem', 'Int', 'Rel', 'Tot', 'Ind', 'Neg', 'Exc'),\n",
       "  'Person': ('1', '2', '3'),\n",
       "  'Number': ('Sing', 'Plur'),\n",
       "  'Case': ('Nom', 'Acc'),\n",
       "  'Polite': ('Inform', 'Form', 'Elev', 'Humb'),\n",
       "  'Deixis': ('Prox', 'Remt'),\n",
       "  'Refl': ('Yes',)},\n",
       " 'NOUN': {'Number': ('Sing', 'Plur'),\n",
       "  'Polite': ('Inform', 'Form', 'Elev', 'Humb'),\n",
       "  'Animacy': ('Hum', 'Nhum', 'Inan'),\n",
       "  'Gender': ('Fem', 'Masc'),\n",
       "  'Case': ('Nom', 'Acc'),\n",
       "  'Subcat': ('Tran', 'Intr'),\n",
       "  'VerbForm': ('Inf', 'Part', 'Vnoun'),\n",
       "  'Tense': ('Pres', 'Past')},\n",
       " 'PROPN': {'NameType': ('Giv', 'Pat', 'Geo', 'Oth'), 'Transc': ('Yes',)},\n",
       " 'SYM': {'Text': nan},\n",
       " 'AUX/VERB': {'VerbType': ('Cop', 'Quasi', 'Light', 'Mod'),\n",
       "  'Subcat': ('Tran', 'Intr'),\n",
       "  'Tense': ('Pres', 'Past'),\n",
       "  'Mood': ('Ind', 'Sub', 'Opt', 'Imp', 'Nec'),\n",
       "  'Person': ('1', '2', '3'),\n",
       "  'Number': ('Sing', 'Plur'),\n",
       "  'VerbForm': ('Fin', 'Inf', 'Conv'),\n",
       "  'Polarity': ('Neg',)},\n",
       " 'VERB': {'Polite': ('Inform', 'Form', 'Elev', 'Humb')},\n",
       " 'all': {'Foreign': ('Yes',),\n",
       "  'Hyph': ('Yes',),\n",
       "  'Typo': ('Yes',),\n",
       "  'Transc': ('Yes',)}}"
      ]
     },
     "execution_count": 6,
     "metadata": {},
     "output_type": "execute_result"
    }
   ],
   "source": [
    "upos_feature_feature_value"
   ]
  },
  {
   "cell_type": "code",
   "execution_count": null,
   "metadata": {},
   "outputs": [],
   "source": []
  }
 ],
 "metadata": {
  "kernelspec": {
   "display_name": "mpcd",
   "language": "python",
   "name": "python3"
  },
  "language_info": {
   "codemirror_mode": {
    "name": "ipython",
    "version": 3
   },
   "file_extension": ".py",
   "mimetype": "text/x-python",
   "name": "python",
   "nbconvert_exporter": "python",
   "pygments_lexer": "ipython3",
   "version": "3.9.5"
  },
  "orig_nbformat": 4,
  "vscode": {
   "interpreter": {
    "hash": "a78b307a09eb47a03acde0b2523a69e5c53a0e4212417873e61434f0de72810d"
   }
  }
 },
 "nbformat": 4,
 "nbformat_minor": 2
}
