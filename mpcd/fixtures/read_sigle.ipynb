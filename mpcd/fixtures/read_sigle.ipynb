{
 "cells": [
  {
   "cell_type": "code",
   "execution_count": 23,
   "source": [
    "with open('text_sigle.txt') as file:\n",
    "    lines = file.readlines()\n",
    "    lines = [line.rstrip() for line in lines]\n",
    "    lines = [\"{} = {}, {}\".format(line.replace('\"', '').replace('.', ''), line.replace('.', ''), line.replace('.', '')) for line in lines]\n",
    "\n"
   ],
   "outputs": [],
   "metadata": {}
  },
  {
   "cell_type": "code",
   "execution_count": 24,
   "source": [
    "print(lines)"
   ],
   "outputs": [
    {
     "output_type": "stream",
     "name": "stdout",
     "text": [
      "['AM = \"AM\", \"AM\"', 'AŌD = \"AŌD\", \"AŌD\"', 'Aog = \"Aog\", \"Aog\"', 'ASS = \"ASS\", \"ASS\"', 'AWM = \"AWM\", \"AWM\"', 'AWN = \"AWN\", \"AWN\"', 'AZ = \"AZ\", \"AZ\"', 'CHP = \"CHP\", \"CHP\"', 'DA = \"DA\", \"DA\"', 'Dd = \"Dd\", \"Dd\"', 'Dk3 = \"Dk3\", \"Dk3\"', 'Dk4 = \"Dk4\", \"Dk4\"', 'Dk5 = \"Dk5\", \"Dk5\"', 'Dk6 = \"Dk6\", \"Dk6\"', 'Dk7 = \"Dk7\", \"Dk7\"', 'Dk8 = \"Dk8\", \"Dk8\"', 'Dk9 = \"Dk9\", \"Dk9\"', 'DkC = \"DkC\", \"DkC\"', 'DMX = \"DMX\", \"DMX\"', 'ENN = \"ENN\", \"ENN\"', 'GA = \"GA\", \"GA\"', 'GBd = \"GBd\", \"GBd\"', 'Hēr = \"Hēr\", \"Hēr\"', 'HKR = \"HKR\", \"HKR\"', 'HN = \"HN\", \"HN\"', 'IndBd = \"IndBd\", \"IndBd\"', 'KAP = \"KAP\", \"KAP\"', 'MFRH = \"MFRH\", \"MFRH\"', 'MHD = \"MHD\", \"MHD\"', 'MK-Andarz = \"MK-Andarz\", \"MK-Andarz\"', 'MYFr = \"MYFr\", \"MYFr\"', 'N = \"N\", \"N\"', 'NM = \"NM\", \"NM\"', 'OHD = \"OHD\", \"OHD\"', 'P = \"P\", \"P\"', 'PahlRivDd = \"PahlRivDd\", \"PahlRivDd\"', 'PT = \"PT\", \"PT\"', 'PV = \"PV\", \"PV\"', 'PY = \"PY\", \"PY\"', 'RAF = \"RAF\", \"RAF\"', 'RĒA = \"RĒA\", \"RĒA\"', 'ŠGW = \"ŠGW\", \"ŠGW\"', 'ŠiĒ = \"ŠiĒ\", \"ŠiĒ\"', 'ŠnŠ = \"ŠnŠ\", \"ŠnŠ\"', 'Vr = \"Vr\", \"Vr\"', 'Vyt = \"Vyt\", \"Vyt\"', 'WCNA = \"WCNA\", \"WCNA\"', 'WD = \"WD\", \"WD\"', 'WDWM = \"WDWM\", \"WDWM\"', 'WZ = \"WZ\", \"WZ\"', 'X&D = \"X&D\", \"X&D\"', 'XAv = \"XAv\", \"XAv\"', 'ZFJ = \"ZFJ\", \"ZFJ\"', 'ZWY = \"ZWY\", \"ZWY\"']\n"
     ]
    }
   ],
   "metadata": {}
  },
  {
   "cell_type": "code",
   "execution_count": 25,
   "source": [
    "for line in lines:\n",
    "    print(line)"
   ],
   "outputs": [
    {
     "output_type": "stream",
     "name": "stdout",
     "text": [
      "AM = \"AM\", \"AM\"\n",
      "AŌD = \"AŌD\", \"AŌD\"\n",
      "Aog = \"Aog\", \"Aog\"\n",
      "ASS = \"ASS\", \"ASS\"\n",
      "AWM = \"AWM\", \"AWM\"\n",
      "AWN = \"AWN\", \"AWN\"\n",
      "AZ = \"AZ\", \"AZ\"\n",
      "CHP = \"CHP\", \"CHP\"\n",
      "DA = \"DA\", \"DA\"\n",
      "Dd = \"Dd\", \"Dd\"\n",
      "Dk3 = \"Dk3\", \"Dk3\"\n",
      "Dk4 = \"Dk4\", \"Dk4\"\n",
      "Dk5 = \"Dk5\", \"Dk5\"\n",
      "Dk6 = \"Dk6\", \"Dk6\"\n",
      "Dk7 = \"Dk7\", \"Dk7\"\n",
      "Dk8 = \"Dk8\", \"Dk8\"\n",
      "Dk9 = \"Dk9\", \"Dk9\"\n",
      "DkC = \"DkC\", \"DkC\"\n",
      "DMX = \"DMX\", \"DMX\"\n",
      "ENN = \"ENN\", \"ENN\"\n",
      "GA = \"GA\", \"GA\"\n",
      "GBd = \"GBd\", \"GBd\"\n",
      "Hēr = \"Hēr\", \"Hēr\"\n",
      "HKR = \"HKR\", \"HKR\"\n",
      "HN = \"HN\", \"HN\"\n",
      "IndBd = \"IndBd\", \"IndBd\"\n",
      "KAP = \"KAP\", \"KAP\"\n",
      "MFRH = \"MFRH\", \"MFRH\"\n",
      "MHD = \"MHD\", \"MHD\"\n",
      "MK-Andarz = \"MK-Andarz\", \"MK-Andarz\"\n",
      "MYFr = \"MYFr\", \"MYFr\"\n",
      "N = \"N\", \"N\"\n",
      "NM = \"NM\", \"NM\"\n",
      "OHD = \"OHD\", \"OHD\"\n",
      "P = \"P\", \"P\"\n",
      "PahlRivDd = \"PahlRivDd\", \"PahlRivDd\"\n",
      "PT = \"PT\", \"PT\"\n",
      "PV = \"PV\", \"PV\"\n",
      "PY = \"PY\", \"PY\"\n",
      "RAF = \"RAF\", \"RAF\"\n",
      "RĒA = \"RĒA\", \"RĒA\"\n",
      "ŠGW = \"ŠGW\", \"ŠGW\"\n",
      "ŠiĒ = \"ŠiĒ\", \"ŠiĒ\"\n",
      "ŠnŠ = \"ŠnŠ\", \"ŠnŠ\"\n",
      "Vr = \"Vr\", \"Vr\"\n",
      "Vyt = \"Vyt\", \"Vyt\"\n",
      "WCNA = \"WCNA\", \"WCNA\"\n",
      "WD = \"WD\", \"WD\"\n",
      "WDWM = \"WDWM\", \"WDWM\"\n",
      "WZ = \"WZ\", \"WZ\"\n",
      "X&D = \"X&D\", \"X&D\"\n",
      "XAv = \"XAv\", \"XAv\"\n",
      "ZFJ = \"ZFJ\", \"ZFJ\"\n",
      "ZWY = \"ZWY\", \"ZWY\"\n"
     ]
    }
   ],
   "metadata": {}
  },
  {
   "cell_type": "code",
   "execution_count": 26,
   "source": [
    "def print_list(filename, list):\n",
    "    with open(filename, mode='wt', encoding='utf-8') as f:\n",
    "        for e in list:\n",
    "            print(e)\n",
    "            f.write(str(e) + '\\n')\n",
    "            # myfile.write('\\n'.join(list))"
   ],
   "outputs": [],
   "metadata": {}
  },
  {
   "cell_type": "code",
   "execution_count": 27,
   "source": [
    "print_list('text_sigle_for_logical_model.txt', lines)"
   ],
   "outputs": [
    {
     "output_type": "stream",
     "name": "stdout",
     "text": [
      "AM = \"AM\", \"AM\"\n",
      "AŌD = \"AŌD\", \"AŌD\"\n",
      "Aog = \"Aog\", \"Aog\"\n",
      "ASS = \"ASS\", \"ASS\"\n",
      "AWM = \"AWM\", \"AWM\"\n",
      "AWN = \"AWN\", \"AWN\"\n",
      "AZ = \"AZ\", \"AZ\"\n",
      "CHP = \"CHP\", \"CHP\"\n",
      "DA = \"DA\", \"DA\"\n",
      "Dd = \"Dd\", \"Dd\"\n",
      "Dk3 = \"Dk3\", \"Dk3\"\n",
      "Dk4 = \"Dk4\", \"Dk4\"\n",
      "Dk5 = \"Dk5\", \"Dk5\"\n",
      "Dk6 = \"Dk6\", \"Dk6\"\n",
      "Dk7 = \"Dk7\", \"Dk7\"\n",
      "Dk8 = \"Dk8\", \"Dk8\"\n",
      "Dk9 = \"Dk9\", \"Dk9\"\n",
      "DkC = \"DkC\", \"DkC\"\n",
      "DMX = \"DMX\", \"DMX\"\n",
      "ENN = \"ENN\", \"ENN\"\n",
      "GA = \"GA\", \"GA\"\n",
      "GBd = \"GBd\", \"GBd\"\n",
      "Hēr = \"Hēr\", \"Hēr\"\n",
      "HKR = \"HKR\", \"HKR\"\n",
      "HN = \"HN\", \"HN\"\n",
      "IndBd = \"IndBd\", \"IndBd\"\n",
      "KAP = \"KAP\", \"KAP\"\n",
      "MFRH = \"MFRH\", \"MFRH\"\n",
      "MHD = \"MHD\", \"MHD\"\n",
      "MK-Andarz = \"MK-Andarz\", \"MK-Andarz\"\n",
      "MYFr = \"MYFr\", \"MYFr\"\n",
      "N = \"N\", \"N\"\n",
      "NM = \"NM\", \"NM\"\n",
      "OHD = \"OHD\", \"OHD\"\n",
      "P = \"P\", \"P\"\n",
      "PahlRivDd = \"PahlRivDd\", \"PahlRivDd\"\n",
      "PT = \"PT\", \"PT\"\n",
      "PV = \"PV\", \"PV\"\n",
      "PY = \"PY\", \"PY\"\n",
      "RAF = \"RAF\", \"RAF\"\n",
      "RĒA = \"RĒA\", \"RĒA\"\n",
      "ŠGW = \"ŠGW\", \"ŠGW\"\n",
      "ŠiĒ = \"ŠiĒ\", \"ŠiĒ\"\n",
      "ŠnŠ = \"ŠnŠ\", \"ŠnŠ\"\n",
      "Vr = \"Vr\", \"Vr\"\n",
      "Vyt = \"Vyt\", \"Vyt\"\n",
      "WCNA = \"WCNA\", \"WCNA\"\n",
      "WD = \"WD\", \"WD\"\n",
      "WDWM = \"WDWM\", \"WDWM\"\n",
      "WZ = \"WZ\", \"WZ\"\n",
      "X&D = \"X&D\", \"X&D\"\n",
      "XAv = \"XAv\", \"XAv\"\n",
      "ZFJ = \"ZFJ\", \"ZFJ\"\n",
      "ZWY = \"ZWY\", \"ZWY\"\n"
     ]
    }
   ],
   "metadata": {}
  },
  {
   "cell_type": "code",
   "execution_count": null,
   "source": [],
   "outputs": [],
   "metadata": {}
  }
 ],
 "metadata": {
  "orig_nbformat": 4,
  "language_info": {
   "name": "python",
   "version": "3.9.5",
   "mimetype": "text/x-python",
   "codemirror_mode": {
    "name": "ipython",
    "version": 3
   },
   "pygments_lexer": "ipython3",
   "nbconvert_exporter": "python",
   "file_extension": ".py"
  },
  "kernelspec": {
   "name": "python3",
   "display_name": "Python 3.9.5 64-bit ('mpcd': conda)"
  },
  "interpreter": {
   "hash": "488e122ba6ea6897dd5f19bd5551d9eb19226a32253eb451d63b0a6f16316530"
  }
 },
 "nbformat": 4,
 "nbformat_minor": 2
}